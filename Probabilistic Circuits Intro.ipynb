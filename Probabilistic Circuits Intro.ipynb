{
 "cells": [
  {
   "cell_type": "markdown",
   "metadata": {},
   "source": [
    "# First document of exploration of PCs"
   ]
  },
  {
   "cell_type": "markdown",
   "metadata": {},
   "source": [
    "## Building PCs with SPFlow"
   ]
  },
  {
   "cell_type": "markdown",
   "metadata": {},
   "source": [
    "### libraries needed"
   ]
  },
  {
   "cell_type": "code",
   "execution_count": 9,
   "metadata": {},
   "outputs": [],
   "source": [
    "from spn.structure.leaves.parametric.Parametric import Categorical, Gaussian"
   ]
  },
  {
   "cell_type": "markdown",
   "metadata": {},
   "source": [
    "### create spn architecture"
   ]
  },
  {
   "cell_type": "code",
   "execution_count": 10,
   "metadata": {},
   "outputs": [],
   "source": [
    "PC = 0.4 * (Categorical(p=[0.2 , 0.8] , scope=0) *\n",
    "    (0.3 * (Gaussian(mean=1.0 , stdev=1.0 , scope=1) *\n",
    "        Categorical(p=[0.4 , 0.6] , scope=2))\n",
    "    + 0.7 * (Gaussian(mean=-1.0, stdev=1.0 , scope=1) *\n",
    "        Categorical(p=[0.6 , 0.4] , scope=2)))) \\\n",
    "    + 0.6 * (Categorical(p=[0.2 , 0.8] , scope=0) *\n",
    "        Gaussian(mean=0.0 , stdev=0.1 , scope=1) *\n",
    "        Categorical(p=[0.4 , 0.6] , scope=2))"
   ]
  }
 ],
 "metadata": {
  "kernelspec": {
   "display_name": "Python 3",
   "language": "python",
   "name": "python3"
  },
  "language_info": {
   "codemirror_mode": {
    "name": "ipython",
    "version": 3
   },
   "file_extension": ".py",
   "mimetype": "text/x-python",
   "name": "python",
   "nbconvert_exporter": "python",
   "pygments_lexer": "ipython3",
   "version": "3.8.3"
  }
 },
 "nbformat": 4,
 "nbformat_minor": 4
}
